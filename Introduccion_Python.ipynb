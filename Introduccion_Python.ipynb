{
  "nbformat": 4,
  "nbformat_minor": 0,
  "metadata": {
    "colab": {
      "name": "TallerPython.ipynb",
      "provenance": []
    },
    "kernelspec": {
      "name": "python3",
      "display_name": "Python 3"
    }
  },
  "cells": [
    {
      "cell_type": "markdown",
      "metadata": {
        "id": "T0hkIiNQAY92",
        "colab_type": "text"
      },
      "source": [
        "# Introducción a Python 🐍 💻\n",
        "Temas a Tratar:\n",
        "\n",
        "✅ Variables y tipos de datos\n",
        "\n",
        "✅ Operadores basicos\n",
        "\n",
        "✅ Condicionales\n",
        "\n",
        "✅ Ciclos o Bucles\n",
        "\n",
        "✅ Listas y diccionarios\n",
        "\n",
        "✅ Funciones\n",
        "\n",
        "✅ Clases y objetos"
      ]
    },
    {
      "cell_type": "markdown",
      "metadata": {
        "id": "bfCE_EoZXXwU",
        "colab_type": "text"
      },
      "source": [
        "# Variables y tipos de datos\n",
        "Las variables son elementos en los cuales guardamos información. Por ejemplo:"
      ]
    },
    {
      "cell_type": "code",
      "metadata": {
        "id": "dGSLVRKjZPNR",
        "colab_type": "code",
        "colab": {}
      },
      "source": [
        "a = 1"
      ],
      "execution_count": null,
      "outputs": []
    },
    {
      "cell_type": "code",
      "metadata": {
        "id": "e-3QCNS1ZRY9",
        "colab_type": "code",
        "colab": {}
      },
      "source": [
        "b = 'Hola!'"
      ],
      "execution_count": null,
      "outputs": []
    },
    {
      "cell_type": "markdown",
      "metadata": {
        "id": "IbNjcYdwZY4C",
        "colab_type": "text"
      },
      "source": [
        "Para mostrar el valor que se encuentra dentro de las variables podemos llamar la funcion **print()**"
      ]
    },
    {
      "cell_type": "code",
      "metadata": {
        "id": "UL1mXLkpZWej",
        "colab_type": "code",
        "colab": {
          "base_uri": "https://localhost:8080/",
          "height": 35
        },
        "outputId": "3193932a-eeee-49cb-a6e5-a72f41a71e42"
      },
      "source": [
        "print(a)"
      ],
      "execution_count": null,
      "outputs": [
        {
          "output_type": "stream",
          "text": [
            "1\n"
          ],
          "name": "stdout"
        }
      ]
    },
    {
      "cell_type": "code",
      "metadata": {
        "id": "DFNUHgWFZgCl",
        "colab_type": "code",
        "colab": {
          "base_uri": "https://localhost:8080/",
          "height": 35
        },
        "outputId": "9ab74cab-9766-4f9c-ddd8-83b35622d0e1"
      },
      "source": [
        "print(b)"
      ],
      "execution_count": null,
      "outputs": [
        {
          "output_type": "stream",
          "text": [
            "Hola!\n"
          ],
          "name": "stdout"
        }
      ]
    },
    {
      "cell_type": "markdown",
      "metadata": {
        "id": "P8jzRtGDZjoA",
        "colab_type": "text"
      },
      "source": [
        "En Python se manejan diferentes tipos de datos, entre ellos los siguientes:\n",
        "\n",
        "* **Int:** Representación de los números enteros.\n",
        "\n"
      ]
    },
    {
      "cell_type": "code",
      "metadata": {
        "id": "Ce_k0As8ZhJH",
        "colab_type": "code",
        "colab": {
          "base_uri": "https://localhost:8080/",
          "height": 35
        },
        "outputId": "697193c1-2aed-4209-da95-471bbff39349"
      },
      "source": [
        "entero = 9\n",
        "print(entero, type(entero))"
      ],
      "execution_count": null,
      "outputs": [
        {
          "output_type": "stream",
          "text": [
            "9 <class 'int'>\n"
          ],
          "name": "stdout"
        }
      ]
    },
    {
      "cell_type": "markdown",
      "metadata": {
        "id": "HUBA5hcqaA5V",
        "colab_type": "text"
      },
      "source": [
        "\n",
        "*   **Float:** Representación de los números decimales.\n"
      ]
    },
    {
      "cell_type": "code",
      "metadata": {
        "id": "x7ad8m5XZ9-_",
        "colab_type": "code",
        "colab": {
          "base_uri": "https://localhost:8080/",
          "height": 35
        },
        "outputId": "d6dc510c-9547-4872-8b7d-08e89a23f48a"
      },
      "source": [
        "flotante = 1.5\n",
        "print(flotante, type(flotante))"
      ],
      "execution_count": null,
      "outputs": [
        {
          "output_type": "stream",
          "text": [
            "1.5 <class 'float'>\n"
          ],
          "name": "stdout"
        }
      ]
    },
    {
      "cell_type": "markdown",
      "metadata": {
        "id": "MySWRJh4aS_z",
        "colab_type": "text"
      },
      "source": [
        "* **String**: Representación de las cadenas.\n"
      ]
    },
    {
      "cell_type": "code",
      "metadata": {
        "id": "4TSrdstHabRZ",
        "colab_type": "code",
        "colab": {
          "base_uri": "https://localhost:8080/",
          "height": 54
        },
        "outputId": "29fa45a5-a60c-4e02-90db-d35b5513a41d"
      },
      "source": [
        "cadena = 'Hola Mundo!'\n",
        "cadena1 = \"Ejemplo Cadena\"\n",
        "print(cadena, type(cadena))\n",
        "print(cadena1, type(cadena1))"
      ],
      "execution_count": null,
      "outputs": [
        {
          "output_type": "stream",
          "text": [
            "Hola Mundo! <class 'str'>\n",
            "Ejemplo Cadena <class 'str'>\n"
          ],
          "name": "stdout"
        }
      ]
    },
    {
      "cell_type": "markdown",
      "metadata": {
        "id": "GTbzaKEGbF0P",
        "colab_type": "text"
      },
      "source": [
        "* **Bool:** Representación de valores booleanos (True, False). "
      ]
    },
    {
      "cell_type": "code",
      "metadata": {
        "id": "bFZ-h_wZao97",
        "colab_type": "code",
        "colab": {
          "base_uri": "https://localhost:8080/",
          "height": 35
        },
        "outputId": "149db580-fa24-49ae-ed04-c9f74dd7f769"
      },
      "source": [
        "booleano = True\n",
        "print(booleano, type(booleano))"
      ],
      "execution_count": null,
      "outputs": [
        {
          "output_type": "stream",
          "text": [
            "True <class 'bool'>\n"
          ],
          "name": "stdout"
        }
      ]
    },
    {
      "cell_type": "markdown",
      "metadata": {
        "id": "dsvWa0K4b3xb",
        "colab_type": "text"
      },
      "source": [
        "# Operadores Básicos\n",
        "Un operador es un símbolo del lenguaje de programación, el cual es capaz de realizar operaciones con los valores. Python tiene operaciones básicas como:"
      ]
    },
    {
      "cell_type": "code",
      "metadata": {
        "id": "9PxwBSkpbXds",
        "colab_type": "code",
        "colab": {
          "base_uri": "https://localhost:8080/",
          "height": 35
        },
        "outputId": "9b1c4dd6-3cff-4b87-e373-dd45ca32c8f7"
      },
      "source": [
        "# Suma\n",
        "a = 2 + 3\n",
        "print(a)"
      ],
      "execution_count": null,
      "outputs": [
        {
          "output_type": "stream",
          "text": [
            "5\n"
          ],
          "name": "stdout"
        }
      ]
    },
    {
      "cell_type": "code",
      "metadata": {
        "id": "iKFGMzFlckIy",
        "colab_type": "code",
        "colab": {
          "base_uri": "https://localhost:8080/",
          "height": 35
        },
        "outputId": "4ce3633a-d0c1-41e6-e65f-22dee8ea347c"
      },
      "source": [
        "# Resta\n",
        "b = 5 - 3\n",
        "print(b)"
      ],
      "execution_count": null,
      "outputs": [
        {
          "output_type": "stream",
          "text": [
            "2\n"
          ],
          "name": "stdout"
        }
      ]
    },
    {
      "cell_type": "code",
      "metadata": {
        "id": "uQNmrkbCcu0I",
        "colab_type": "code",
        "colab": {
          "base_uri": "https://localhost:8080/",
          "height": 35
        },
        "outputId": "1d5dd6cb-8891-4a3f-bb29-6c43d53a21d6"
      },
      "source": [
        "# Multiplicación\n",
        "c = 6 * 3\n",
        "print(c)"
      ],
      "execution_count": null,
      "outputs": [
        {
          "output_type": "stream",
          "text": [
            "18\n"
          ],
          "name": "stdout"
        }
      ]
    },
    {
      "cell_type": "code",
      "metadata": {
        "id": "N3e-agPuc0nu",
        "colab_type": "code",
        "colab": {
          "base_uri": "https://localhost:8080/",
          "height": 35
        },
        "outputId": "4db7d47f-4917-4023-e895-1e4c578d1cdb"
      },
      "source": [
        "# División\n",
        "d = 12 / 4\n",
        "print(d)"
      ],
      "execution_count": null,
      "outputs": [
        {
          "output_type": "stream",
          "text": [
            "3.0\n"
          ],
          "name": "stdout"
        }
      ]
    },
    {
      "cell_type": "code",
      "metadata": {
        "id": "w6ED_kJDc6Yd",
        "colab_type": "code",
        "colab": {
          "base_uri": "https://localhost:8080/",
          "height": 35
        },
        "outputId": "79b722d9-8dcf-4b22-b112-3dd04e85a255"
      },
      "source": [
        "# División entera\n",
        "e = 12 // 4\n",
        "print(e)"
      ],
      "execution_count": null,
      "outputs": [
        {
          "output_type": "stream",
          "text": [
            "3\n"
          ],
          "name": "stdout"
        }
      ]
    },
    {
      "cell_type": "code",
      "metadata": {
        "id": "Wq6Y7P2NdA5B",
        "colab_type": "code",
        "colab": {
          "base_uri": "https://localhost:8080/",
          "height": 35
        },
        "outputId": "4bc3ccf7-8596-44fb-f84a-b6df6fd88981"
      },
      "source": [
        "# Potencia\n",
        "f = 2 ** 3\n",
        "print(f)"
      ],
      "execution_count": null,
      "outputs": [
        {
          "output_type": "stream",
          "text": [
            "8\n"
          ],
          "name": "stdout"
        }
      ]
    },
    {
      "cell_type": "code",
      "metadata": {
        "id": "2UTGPou3dK_I",
        "colab_type": "code",
        "colab": {
          "base_uri": "https://localhost:8080/",
          "height": 35
        },
        "outputId": "70bb6028-62c1-4b1b-981e-5cfba0237bdc"
      },
      "source": [
        "# Módulo (Lo que queda de la división entera)\n",
        "g = 10 % 3\n",
        "print(g)"
      ],
      "execution_count": null,
      "outputs": [
        {
          "output_type": "stream",
          "text": [
            "1\n"
          ],
          "name": "stdout"
        }
      ]
    },
    {
      "cell_type": "markdown",
      "metadata": {
        "id": "PU2vuJqUeDm2",
        "colab_type": "text"
      },
      "source": [
        "**Operadores Abreviados**: Cuando se quiere utilizar una misma variable al lado derecho e izquierdo de un operador, podemos reducir el codigo de la siguiente manera:"
      ]
    },
    {
      "cell_type": "code",
      "metadata": {
        "id": "nnHxPZtWdQI1",
        "colab_type": "code",
        "colab": {
          "base_uri": "https://localhost:8080/",
          "height": 35
        },
        "outputId": "ec363a63-afc4-418d-c6ad-1d4f42e8fcf9"
      },
      "source": [
        "a = 5\n",
        "a = a + 1\n",
        "print(a)"
      ],
      "execution_count": null,
      "outputs": [
        {
          "output_type": "stream",
          "text": [
            "6\n"
          ],
          "name": "stdout"
        }
      ]
    },
    {
      "cell_type": "code",
      "metadata": {
        "id": "WQkPQbAdeaQU",
        "colab_type": "code",
        "colab": {
          "base_uri": "https://localhost:8080/",
          "height": 35
        },
        "outputId": "dd8a937d-6e58-4dd5-aff5-586d735d687c"
      },
      "source": [
        "# De una manera mas corta\n",
        "a = 5\n",
        "a += 1\n",
        "print(a)"
      ],
      "execution_count": null,
      "outputs": [
        {
          "output_type": "stream",
          "text": [
            "6\n"
          ],
          "name": "stdout"
        }
      ]
    },
    {
      "cell_type": "markdown",
      "metadata": {
        "id": "ey1iHaQSe5_v",
        "colab_type": "text"
      },
      "source": [
        "# Función *input()*\n",
        "La función input() es capaz de leer datos que fueron introducidos por el usuario y pasar esos datos al programa en ejecución. "
      ]
    },
    {
      "cell_type": "code",
      "metadata": {
        "id": "I0kjRC-Sefxs",
        "colab_type": "code",
        "colab": {
          "base_uri": "https://localhost:8080/",
          "height": 72
        },
        "outputId": "ebca94b2-e425-47f9-f90c-2e662346056d"
      },
      "source": [
        "print('Cuál es tu nombre?')\n",
        "nombre = input()\n",
        "print(f'Hola {nombre}!')"
      ],
      "execution_count": null,
      "outputs": [
        {
          "output_type": "stream",
          "text": [
            "Cuál es tu nombre?\n",
            "c\n",
            "Hola c!\n"
          ],
          "name": "stdout"
        }
      ]
    },
    {
      "cell_type": "markdown",
      "metadata": {
        "id": "_2Ki4dm6ffio",
        "colab_type": "text"
      },
      "source": [
        "# Conversion de Datos\n",
        "Para convertir el tipo de datos de una variable podemos usar las siguientes funciones: *int(), float(), str()*"
      ]
    },
    {
      "cell_type": "code",
      "metadata": {
        "id": "IihNfikUfX4s",
        "colab_type": "code",
        "colab": {
          "base_uri": "https://localhost:8080/",
          "height": 72
        },
        "outputId": "d93331a8-52c7-43b4-8bd6-1516220dbbb1"
      },
      "source": [
        "print('Cuál es tu edad?')\n",
        "edad = int(input())\n",
        "print(f'Tienes {edad} años')"
      ],
      "execution_count": null,
      "outputs": [
        {
          "output_type": "stream",
          "text": [
            "Cuál es tu edad?\n",
            "24\n",
            "Tienes 24 años\n"
          ],
          "name": "stdout"
        }
      ]
    },
    {
      "cell_type": "markdown",
      "metadata": {
        "id": "BkTpz3MCgRXE",
        "colab_type": "text"
      },
      "source": [
        "# Operadores de comparación\n",
        "* **Igualdad:** Compara si dos elementos son iguales ( == ).\n",
        "* **Desigualdad:** Comprar si un valor es diferente a otro (!= ).\n",
        "* **Mayor que:** Compara si un valor es mayor que otro ( > ).\n",
        "* **Menor que:** Compara si un valor es menor que otro ( < ).\n",
        "* **Mayor o igual que:** Compara si un valor es mayor o igual a otro ( >= ).\n",
        "* **Menor o igual que:** Comprara si un valor es menor o igual que otro ( <= ).\n",
        "\n",
        "**Ejemplos:**\n"
      ]
    },
    {
      "cell_type": "code",
      "metadata": {
        "id": "jRNSKV26f4Ep",
        "colab_type": "code",
        "colab": {
          "base_uri": "https://localhost:8080/",
          "height": 35
        },
        "outputId": "7b91b1eb-ac48-4382-9b27-2b6bbe57ccee"
      },
      "source": [
        "2 == 3"
      ],
      "execution_count": null,
      "outputs": [
        {
          "output_type": "execute_result",
          "data": {
            "text/plain": [
              "False"
            ]
          },
          "metadata": {
            "tags": []
          },
          "execution_count": 20
        }
      ]
    },
    {
      "cell_type": "code",
      "metadata": {
        "id": "gBAsuALOBqVC",
        "colab_type": "code",
        "colab": {
          "base_uri": "https://localhost:8080/",
          "height": 35
        },
        "outputId": "17f6b4e3-9a7f-4cbf-d06e-a4f2b5112ee9"
      },
      "source": [
        "2 == 2"
      ],
      "execution_count": null,
      "outputs": [
        {
          "output_type": "execute_result",
          "data": {
            "text/plain": [
              "True"
            ]
          },
          "metadata": {
            "tags": []
          },
          "execution_count": 21
        }
      ]
    },
    {
      "cell_type": "code",
      "metadata": {
        "id": "49H13CGGBufe",
        "colab_type": "code",
        "colab": {
          "base_uri": "https://localhost:8080/",
          "height": 35
        },
        "outputId": "0b218e5b-c130-400b-9fea-ec984a53425b"
      },
      "source": [
        "5 >= 4"
      ],
      "execution_count": null,
      "outputs": [
        {
          "output_type": "execute_result",
          "data": {
            "text/plain": [
              "True"
            ]
          },
          "metadata": {
            "tags": []
          },
          "execution_count": 22
        }
      ]
    },
    {
      "cell_type": "code",
      "metadata": {
        "id": "o3o3MEh7Bwph",
        "colab_type": "code",
        "colab": {
          "base_uri": "https://localhost:8080/",
          "height": 35
        },
        "outputId": "29bae3bd-94f2-4fef-acf5-25a94895565e"
      },
      "source": [
        "4 != '4'"
      ],
      "execution_count": null,
      "outputs": [
        {
          "output_type": "execute_result",
          "data": {
            "text/plain": [
              "True"
            ]
          },
          "metadata": {
            "tags": []
          },
          "execution_count": 23
        }
      ]
    },
    {
      "cell_type": "markdown",
      "metadata": {
        "id": "12H1dMc9CTxJ",
        "colab_type": "text"
      },
      "source": [
        "# Condicionales\n",
        "Los condicionales nos permiten validar si una sentencia es verdadera o no, y deacuerdo al resultado realizar mas instrucciones. Tienen la siguiente estructura:\n",
        "\n",
        "```\n",
        "if sentencia:\n",
        "  # instrucciones a realizar si la sentencia es verdadera\n",
        "else:\n",
        "  # instrucciones a realizar si la sentencia es falsa\n",
        "```\n",
        "\n",
        "**Ejemplos:**"
      ]
    },
    {
      "cell_type": "code",
      "metadata": {
        "id": "bwL4Tv-zB0QJ",
        "colab_type": "code",
        "colab": {
          "base_uri": "https://localhost:8080/",
          "height": 54
        },
        "outputId": "4f084a61-e318-408a-dbc1-457b90b33b52"
      },
      "source": [
        "a = int(input())\n",
        "if a > 3:\n",
        "  print('Soy mayor que 3')\n",
        "else:\n",
        "  print('Soy menor que 3')"
      ],
      "execution_count": null,
      "outputs": [
        {
          "output_type": "stream",
          "text": [
            "5\n",
            "Soy mayor que 3\n"
          ],
          "name": "stdout"
        }
      ]
    },
    {
      "cell_type": "markdown",
      "metadata": {
        "id": "XAhRN6IxEFPL",
        "colab_type": "text"
      },
      "source": [
        "Tambien se pueden enlazar diferentes sentencias por medio de los operadores booleanos **and**, **or**, **not**, **is**, **in**:"
      ]
    },
    {
      "cell_type": "code",
      "metadata": {
        "id": "2svFobTTDmPe",
        "colab_type": "code",
        "colab": {
          "base_uri": "https://localhost:8080/",
          "height": 54
        },
        "outputId": "25563fe1-a223-44dd-996c-185e617acf54"
      },
      "source": [
        "apellido = str(input())\n",
        "if apellido.lower() == 'gomez' or apellido.lower() == 'trejos':\n",
        "  print('Hola prim@!')\n",
        "else:\n",
        "  print('Hola!')"
      ],
      "execution_count": null,
      "outputs": [
        {
          "output_type": "stream",
          "text": [
            "gomez\n",
            "Hola prim@!\n"
          ],
          "name": "stdout"
        }
      ]
    },
    {
      "cell_type": "markdown",
      "metadata": {
        "id": "Oo643n-2FoXG",
        "colab_type": "text"
      },
      "source": [
        "# Ciclos o bucles\n",
        "Un ciclo es una instrucción que se ejecuta tantas veces como se cumpla una condición:\n",
        "## While\n",
        "El ciclo while tiene la siguiente estructura:\n",
        "```\n",
        "while expresión_condicional:\n",
        "  instrucción\n",
        "```"
      ]
    },
    {
      "cell_type": "code",
      "metadata": {
        "id": "Sv5GJ1_oE2CV",
        "colab_type": "code",
        "colab": {
          "base_uri": "https://localhost:8080/",
          "height": 72
        },
        "outputId": "8aee3dae-8edb-46ba-dcc0-54b22625dcc0"
      },
      "source": [
        "a = 3\n",
        "while a > 0:\n",
        "  print(a)\n",
        "  a -= 1"
      ],
      "execution_count": null,
      "outputs": [
        {
          "output_type": "stream",
          "text": [
            "3\n",
            "2\n",
            "1\n"
          ],
          "name": "stdout"
        }
      ]
    },
    {
      "cell_type": "markdown",
      "metadata": {
        "id": "Emry1hMIHedB",
        "colab_type": "text"
      },
      "source": [
        "## For\n",
        "El ciclo for tiene la siguiente estructura:\n",
        "```\n",
        "for expresión_condicional:\n",
        "  instrucción\n",
        "```"
      ]
    },
    {
      "cell_type": "code",
      "metadata": {
        "id": "nlhf_CwuGjVI",
        "colab_type": "code",
        "colab": {
          "base_uri": "https://localhost:8080/",
          "height": 201
        },
        "outputId": "da051457-0a0e-43bd-f28e-d3a7649b5dea"
      },
      "source": [
        "for i in range(10):\n",
        "  print(i)"
      ],
      "execution_count": null,
      "outputs": [
        {
          "output_type": "stream",
          "text": [
            "0\n",
            "1\n",
            "2\n",
            "3\n",
            "4\n",
            "5\n",
            "6\n",
            "7\n",
            "8\n",
            "9\n"
          ],
          "name": "stdout"
        }
      ]
    },
    {
      "cell_type": "markdown",
      "metadata": {
        "id": "Aky7RMGoJYT0",
        "colab_type": "text"
      },
      "source": [
        "## Las declaraciones break y continue\n",
        "\n",
        "**Break:** Sale del ciclo inmediatamente, e incondicionalmente termina la operación del ciclo.\n",
        "\n",
        "**Continue:** Pasa a la siguiente iteración del ciclo.\n"
      ]
    },
    {
      "cell_type": "code",
      "metadata": {
        "id": "fiPfzxuKH8wC",
        "colab_type": "code",
        "colab": {
          "base_uri": "https://localhost:8080/",
          "height": 219
        },
        "outputId": "f2c76e34-b563-4bcf-be01-0fa4fae3bdd0"
      },
      "source": [
        "#Ejemplo break\n",
        "print(\"La instrucción de ruptura:\")\n",
        "for i in range(5):\n",
        "    if i == 2:\n",
        "        break\n",
        "    print(\"Dentro del ciclo.\", i)\n",
        "print(\"Fuera del ciclo.\")\n",
        "\n",
        "# Ejemplo continue\n",
        "\n",
        "print(\"\\nLa instrucción continue:\")\n",
        "for i in range(5):\n",
        "    if i == 2:\n",
        "        continue\n",
        "    print(\"Dentro del ciclo.\", i)\n",
        "print(\"Fuera del ciclo.\")"
      ],
      "execution_count": null,
      "outputs": [
        {
          "output_type": "stream",
          "text": [
            "La instrucción de ruptura:\n",
            "Dentro del ciclo. 0\n",
            "Dentro del ciclo. 1\n",
            "Fuera del ciclo.\n",
            "\n",
            "La instrucción continue:\n",
            "Dentro del ciclo. 0\n",
            "Dentro del ciclo. 1\n",
            "Dentro del ciclo. 3\n",
            "Dentro del ciclo. 4\n",
            "Fuera del ciclo.\n"
          ],
          "name": "stdout"
        }
      ]
    },
    {
      "cell_type": "markdown",
      "metadata": {
        "id": "UIpN8wB4L7Si",
        "colab_type": "text"
      },
      "source": [
        "# Listas\n",
        "Las listas son muy parecidas a lo que se llama en otros lenguajes arreglos o arrays. Pueden contener cualquier tipo de variable y se pueden iterar de una manera muy simple:"
      ]
    },
    {
      "cell_type": "code",
      "metadata": {
        "id": "qVKd4mc7Kj7a",
        "colab_type": "code",
        "colab": {
          "base_uri": "https://localhost:8080/",
          "height": 35
        },
        "outputId": "7bc793dd-c294-4f7b-d7ec-defcf6f4c9d3"
      },
      "source": [
        "mi_lista = []\n",
        "mi_lista.append('a')\n",
        "mi_lista.append('b')\n",
        "mi_lista.append('c')\n",
        "print(mi_lista)"
      ],
      "execution_count": null,
      "outputs": [
        {
          "output_type": "stream",
          "text": [
            "['a', 'b', 'c']\n"
          ],
          "name": "stdout"
        }
      ]
    },
    {
      "cell_type": "code",
      "metadata": {
        "id": "XlFICzxsMY4H",
        "colab_type": "code",
        "colab": {
          "base_uri": "https://localhost:8080/",
          "height": 35
        },
        "outputId": "c226b807-2093-4299-9384-0f07f8874410"
      },
      "source": [
        "print(mi_lista[0])"
      ],
      "execution_count": null,
      "outputs": [
        {
          "output_type": "stream",
          "text": [
            "a\n"
          ],
          "name": "stdout"
        }
      ]
    },
    {
      "cell_type": "markdown",
      "metadata": {
        "id": "0RB43t-AM2-P",
        "colab_type": "text"
      },
      "source": [
        "Hay varias funciones que tienen las listas por defecto como por ejemplo:\n",
        "* **len()**: Nos muestra el tamaño de la lista\n",
        "* **sort()**: Ordena una lista"
      ]
    },
    {
      "cell_type": "code",
      "metadata": {
        "id": "BQGJetFjMaPc",
        "colab_type": "code",
        "colab": {
          "base_uri": "https://localhost:8080/",
          "height": 35
        },
        "outputId": "c2047899-cada-4c99-b15f-826e0b0ca819"
      },
      "source": [
        "a = [1, 2, 3, 4]\n",
        "print(len(a))"
      ],
      "execution_count": null,
      "outputs": [
        {
          "output_type": "stream",
          "text": [
            "4\n"
          ],
          "name": "stdout"
        }
      ]
    },
    {
      "cell_type": "code",
      "metadata": {
        "id": "Br0NfjCaNMGS",
        "colab_type": "code",
        "colab": {
          "base_uri": "https://localhost:8080/",
          "height": 90
        },
        "outputId": "e9184758-bb8e-4929-96c9-64e81ec2a4a5"
      },
      "source": [
        "for i in a:\n",
        "  print(f'Elemento: {i}')"
      ],
      "execution_count": null,
      "outputs": [
        {
          "output_type": "stream",
          "text": [
            "Elemento: 1\n",
            "Elemento: 2\n",
            "Elemento: 3\n",
            "Elemento: 4\n"
          ],
          "name": "stdout"
        }
      ]
    },
    {
      "cell_type": "code",
      "metadata": {
        "id": "vxc_VzbkNSkG",
        "colab_type": "code",
        "colab": {
          "base_uri": "https://localhost:8080/",
          "height": 35
        },
        "outputId": "f6138af2-be1c-4ce9-be5f-2ed4890bd097"
      },
      "source": [
        "b = [2, 5, 4, 1, 3]\n",
        "b.sort()\n",
        "print(b)"
      ],
      "execution_count": null,
      "outputs": [
        {
          "output_type": "stream",
          "text": [
            "[1, 2, 3, 4, 5]\n"
          ],
          "name": "stdout"
        }
      ]
    },
    {
      "cell_type": "markdown",
      "metadata": {
        "id": "GuQgrKFsNoHf",
        "colab_type": "text"
      },
      "source": [
        "Para eliminar un elemento de una lista usamos la instruccion del:\n"
      ]
    },
    {
      "cell_type": "code",
      "metadata": {
        "id": "N0tk4-g2NXhl",
        "colab_type": "code",
        "colab": {
          "base_uri": "https://localhost:8080/",
          "height": 35
        },
        "outputId": "4dd49cf5-8bae-4dcc-d335-f17630d622a8"
      },
      "source": [
        "del b[4]\n",
        "print(b)"
      ],
      "execution_count": null,
      "outputs": [
        {
          "output_type": "stream",
          "text": [
            "[1, 2, 3, 4]\n"
          ],
          "name": "stdout"
        }
      ]
    },
    {
      "cell_type": "markdown",
      "metadata": {
        "id": "wCb_o6JcOZ7u",
        "colab_type": "text"
      },
      "source": [
        "# Diccionarios\n",
        "Los diccionarios son tipos de datos parecidos a las listas pero en vez de indices tienen atributos de llave y valor, de la siguiente manera:"
      ]
    },
    {
      "cell_type": "code",
      "metadata": {
        "id": "fp9W3YclNX6B",
        "colab_type": "code",
        "colab": {
          "base_uri": "https://localhost:8080/",
          "height": 35
        },
        "outputId": "a15e956e-4225-4439-d828-391385028d94"
      },
      "source": [
        "a = {'nombre': 'Carolina', 'apellido': 'Gomez'}\n",
        "print(a)"
      ],
      "execution_count": null,
      "outputs": [
        {
          "output_type": "stream",
          "text": [
            "{'nombre': 'Carolina', 'apellido': 'Gomez'}\n"
          ],
          "name": "stdout"
        }
      ]
    },
    {
      "cell_type": "code",
      "metadata": {
        "id": "_huqi5oMOnhm",
        "colab_type": "code",
        "colab": {
          "base_uri": "https://localhost:8080/",
          "height": 35
        },
        "outputId": "65db45f3-c798-4f0f-8d76-1afa4280766b"
      },
      "source": [
        "print(a['nombre'])"
      ],
      "execution_count": null,
      "outputs": [
        {
          "output_type": "stream",
          "text": [
            "Carolina\n"
          ],
          "name": "stdout"
        }
      ]
    },
    {
      "cell_type": "code",
      "metadata": {
        "id": "-TJ3LFrgOrjw",
        "colab_type": "code",
        "colab": {
          "base_uri": "https://localhost:8080/",
          "height": 35
        },
        "outputId": "c2f5a91a-1a39-461d-80af-7bd3a4be8f8b"
      },
      "source": [
        "# Para agregar un nuevo valor\n",
        "a['edad'] = 24\n",
        "print(a)"
      ],
      "execution_count": null,
      "outputs": [
        {
          "output_type": "stream",
          "text": [
            "{'nombre': 'Carolina', 'apellido': 'Gomez', 'edad': 24}\n"
          ],
          "name": "stdout"
        }
      ]
    },
    {
      "cell_type": "code",
      "metadata": {
        "id": "wik_l_qYO0IY",
        "colab_type": "code",
        "colab": {
          "base_uri": "https://localhost:8080/",
          "height": 72
        },
        "outputId": "fe0db02f-0fd4-4f0d-a829-aa3b1736340e"
      },
      "source": [
        "# Iterando sobre diccionarios\n",
        "for llave, valor in a.items():\n",
        "  print(f'{llave}: {valor}')"
      ],
      "execution_count": null,
      "outputs": [
        {
          "output_type": "stream",
          "text": [
            "nombre: Carolina\n",
            "apellido: Gomez\n",
            "edad: 24\n"
          ],
          "name": "stdout"
        }
      ]
    },
    {
      "cell_type": "markdown",
      "metadata": {
        "id": "Ivz9qQAlRMot",
        "colab_type": "text"
      },
      "source": [
        "# Funciones\n",
        "cuando estamos escribiendo instrucciones en muchas ocaciones estas se repiten varias veces, por lo que las funciones nos ayudan a dividir nuestro código en porciones que nos ayudan a ordenar nuestro código y hacerlo mas entendible, ademas de que nos evita repetir porciones de código. Las funciones tienen la siguiente estructura:\n",
        "```\n",
        "def nombre_funcion(parametros):\n",
        "  instrucciones\n",
        "```\n",
        "\n",
        "**Ejemplo:**"
      ]
    },
    {
      "cell_type": "code",
      "metadata": {
        "id": "1Xzayu-CRAz_",
        "colab_type": "code",
        "colab": {}
      },
      "source": [
        "def suma(a, b):\n",
        "  return a + b"
      ],
      "execution_count": null,
      "outputs": []
    },
    {
      "cell_type": "code",
      "metadata": {
        "id": "cv8U-e68TrXy",
        "colab_type": "code",
        "colab": {
          "base_uri": "https://localhost:8080/",
          "height": 35
        },
        "outputId": "b290e687-debe-41b7-cf21-c6b269233484"
      },
      "source": [
        "suma(5, 3)"
      ],
      "execution_count": null,
      "outputs": [
        {
          "output_type": "execute_result",
          "data": {
            "text/plain": [
              "8"
            ]
          },
          "metadata": {
            "tags": []
          },
          "execution_count": 40
        }
      ]
    },
    {
      "cell_type": "code",
      "metadata": {
        "id": "c3KRTwSjTtTS",
        "colab_type": "code",
        "colab": {}
      },
      "source": [
        "# Sumar los valores de una lista\n",
        "def suma_lista(lista):\n",
        "  suma_total = 0\n",
        "  for elem in lista:\n",
        "    suma_total += elem\n",
        "  return suma_total"
      ],
      "execution_count": null,
      "outputs": []
    },
    {
      "cell_type": "code",
      "metadata": {
        "id": "PdJ0iBTXUTW-",
        "colab_type": "code",
        "colab": {
          "base_uri": "https://localhost:8080/",
          "height": 35
        },
        "outputId": "f704cf60-6dba-430d-a420-03132ee7ab4a"
      },
      "source": [
        "lista = [1, 2, 3, 4, 5]\n",
        "suma_lista(lista)"
      ],
      "execution_count": null,
      "outputs": [
        {
          "output_type": "execute_result",
          "data": {
            "text/plain": [
              "15"
            ]
          },
          "metadata": {
            "tags": []
          },
          "execution_count": 42
        }
      ]
    },
    {
      "cell_type": "markdown",
      "metadata": {
        "id": "JkSXYvrxdzOL",
        "colab_type": "text"
      },
      "source": [
        "# Clases y Objetos\n",
        "Un objeto es un encapsulamiento de variables y funciones. Los objetos obtienen sus variables y funciones por medio de clases. Las clases son basicamente el esqueleto de los objetos. Tienen la siguiente estructura:\n",
        "\n",
        "```\n",
        "class NombreClase:\n",
        "  variables\n",
        "\n",
        "  def nombre_funciones(self):\n",
        "    instrucciones\n",
        "```\n",
        "\n",
        "**self** es un parámetro especial que siempre se utilizará como una referencia al objeto mismo. Debe ser siempre el primer parámetro formal; no obstante, nunca se le dará un valor de parámetro real en la invocación.\n",
        "\n",
        "**Ejemplo:** Clase de Fracciones"
      ]
    },
    {
      "cell_type": "code",
      "metadata": {
        "id": "uDbwo641Ua6x",
        "colab_type": "code",
        "colab": {}
      },
      "source": [
        "class Fraccion():\n",
        "  def __init__(self, numerador, denominador):\n",
        "    self.numerador = numerador\n",
        "    self.denominador = denominador\n",
        "\n",
        "  def imprimir(self):\n",
        "    print(f'{self.numerador} / {self.denominador}')\n",
        "\n",
        "  def suma(self, fraccion):\n",
        "    numerador = (self.numerador * fraccion.denominador) + (self.denominador * fraccion.numerador)\n",
        "    denominador = self.denominador * fraccion.denominador\n",
        "    return Fraccion(numerador, denominador)\n",
        "\n",
        "  def resta(self, fraccion):\n",
        "    numerador = (self.numerador * fraccion.denominador) - (self.denominador * fraccion.numerador)\n",
        "    denominador = self.denominador * fraccion.denominador\n",
        "    return Fraccion(numerador, denominador)\n",
        "\n",
        "  def multiplicacion(self, fraccion):\n",
        "    numerador = self.numerador * fraccion.numerador\n",
        "    denominador = self.denominador * fraccion.denominador\n",
        "    return Fraccion(numerador, denominador)\n",
        "  \n",
        "  def division(self, fraccion):\n",
        "    numerador = self.numerador * fraccion.denominador\n",
        "    denominador = self.denominador * fraccion.numerador\n",
        "    return Fraccion(numerador, denominador)"
      ],
      "execution_count": null,
      "outputs": []
    },
    {
      "cell_type": "code",
      "metadata": {
        "id": "nxMuTe9rjbDF",
        "colab_type": "code",
        "colab": {
          "base_uri": "https://localhost:8080/",
          "height": 35
        },
        "outputId": "0f6435c8-4ee9-476b-b85f-4a16c63230bf"
      },
      "source": [
        "fraccion1 = Fraccion(1, 2)\n",
        "fraccion1.imprimir()"
      ],
      "execution_count": null,
      "outputs": [
        {
          "output_type": "stream",
          "text": [
            "1 / 2\n"
          ],
          "name": "stdout"
        }
      ]
    },
    {
      "cell_type": "code",
      "metadata": {
        "id": "Y7Z88Okkji4y",
        "colab_type": "code",
        "colab": {
          "base_uri": "https://localhost:8080/",
          "height": 35
        },
        "outputId": "8ab0d75d-daf3-4141-a09a-b5d108b9fb3f"
      },
      "source": [
        "fraccion2 = Fraccion(2, 3)\n",
        "fraccion2.imprimir()"
      ],
      "execution_count": null,
      "outputs": [
        {
          "output_type": "stream",
          "text": [
            "2 / 3\n"
          ],
          "name": "stdout"
        }
      ]
    },
    {
      "cell_type": "code",
      "metadata": {
        "id": "9A-c54qQjo_W",
        "colab_type": "code",
        "colab": {
          "base_uri": "https://localhost:8080/",
          "height": 35
        },
        "outputId": "5cfb527f-ec6e-4679-f07f-7e9b2291ce0e"
      },
      "source": [
        "fraccion3 = fraccion1.suma(fraccion2)\n",
        "fraccion3"
      ],
      "execution_count": null,
      "outputs": [
        {
          "output_type": "execute_result",
          "data": {
            "text/plain": [
              "<__main__.Fraccion at 0x7f7d7bdc12e8>"
            ]
          },
          "metadata": {
            "tags": []
          },
          "execution_count": 46
        }
      ]
    },
    {
      "cell_type": "code",
      "metadata": {
        "id": "UczaM-l3jt80",
        "colab_type": "code",
        "colab": {
          "base_uri": "https://localhost:8080/",
          "height": 35
        },
        "outputId": "4acde0a5-4146-4280-cf09-291c7d8431e4"
      },
      "source": [
        "fraccion3.imprimir()"
      ],
      "execution_count": null,
      "outputs": [
        {
          "output_type": "stream",
          "text": [
            "7 / 6\n"
          ],
          "name": "stdout"
        }
      ]
    },
    {
      "cell_type": "code",
      "metadata": {
        "id": "3AzLZM6wj59b",
        "colab_type": "code",
        "colab": {
          "base_uri": "https://localhost:8080/",
          "height": 35
        },
        "outputId": "9d1985b7-5eea-4250-ecf4-86c829ff75f3"
      },
      "source": [
        "fraccion4 = fraccion3.resta(fraccion2)\n",
        "fraccion4.imprimir()"
      ],
      "execution_count": null,
      "outputs": [
        {
          "output_type": "stream",
          "text": [
            "9 / 18\n"
          ],
          "name": "stdout"
        }
      ]
    },
    {
      "cell_type": "code",
      "metadata": {
        "id": "ROk8ZlNZj1OX",
        "colab_type": "code",
        "colab": {
          "base_uri": "https://localhost:8080/",
          "height": 35
        },
        "outputId": "32e12448-51ba-4f20-c418-c72323c78da2"
      },
      "source": [
        "fraccion5 = fraccion2.division(fraccion1)\n",
        "fraccion5.imprimir()"
      ],
      "execution_count": null,
      "outputs": [
        {
          "output_type": "stream",
          "text": [
            "4 / 3\n"
          ],
          "name": "stdout"
        }
      ]
    },
    {
      "cell_type": "markdown",
      "metadata": {
        "id": "kKQ5atN6kRqf",
        "colab_type": "text"
      },
      "source": [
        "# Bibliografía\n",
        "\n",
        "\n",
        "*   [Interactive Python Tutorial](https://www.learnpython.org/en/Welcome)\n",
        "*   [PCAP: Programming Essentials in Python](https://www.netacad.com/es/courses/programming/pcap-programming-essentials-python)\n",
        "* [Programación orientada a objetos en Python](https://runestone.academy/runestone/static/pythoned/Introduction/ProgramacionOrientadaAObjetosEnPythonDefinicionDeClases.html)\n",
        "\n",
        "\n",
        "\n"
      ]
    }
  ]
}